{
 "cells": [
  {
   "cell_type": "markdown",
   "id": "a133e69f",
   "metadata": {},
   "source": [
    "# TITANIC"
   ]
  },
  {
   "attachments": {
    "raw.jpeg": {
     "image/jpeg": "[encoded data removed]"
    }
   },
   "cell_type": "markdown",
   "id": "09942272",
   "metadata": {},
   "source": [
    "The sinking of the Titanic is one of the most infamous shipwrecks in history.\n",
    "\n",
    "On April 15, 1912, during her maiden voyage, the widely considered “unsinkable” RMS Titanic sank after colliding with an iceberg. Unfortunately, there weren’t enough lifeboats for everyone onboard, resulting in the death of 1502 out of 2224 passengers and crew.\n",
    "\n",
    "While there was some element of luck involved in surviving, it seems some groups of people were more likely to survive than others.\n",
    "\n",
    "In this hands-on, we ask you to build a predictive model that answers the question: “what sorts of people were more likely to survive?” using passenger data (ie name, age, gender, socio-economic class, etc). \n",
    " \n",
    " ![raw.jpeg](attachment:raw.jpeg)"
   ]
  },
  {
   "cell_type": "markdown",
   "id": "d531913f",
   "metadata": {},
   "source": [
    "### ===> IMPORTING DATA"
   ]
  },
  {
   "cell_type": "markdown",
   "id": "4018629b",
   "metadata": {},
   "source": [
    "You have to import pandas. If you don't have it, you can install it using ==> pip install pandas."
   ]
  },
  {
   "cell_type": "code",
   "execution_count": 3,
   "id": "eb2d65f6",
   "metadata": {},
   "outputs": [],
   "source": [
    "import pandas as pd"
   ]
  },
  {
   "cell_type": "markdown",
   "id": "6573250f",
   "metadata": {},
   "source": [
    "Read the Titanic dataset into a DataFrame named \"train\" using the pandas library from the file 'train.csv'. Additionally, read another dataset into a DataFrame named test from the file 'test.csv'. Write the code to accomplish this task using pandas.\n"
   ]
  },
  {
   "cell_type": "code",
   "execution_count": 62,
   "id": "0d23efef",
   "metadata": {},
   "outputs": [],
   "source": [
    "# write your code here\n",
    "\n",
    "train= ---------------------\n",
    "test=  ---------------------"
   ]
  },
  {
   "cell_type": "markdown",
   "id": "ffe2f2c6",
   "metadata": {},
   "source": [
    "### ===> EXPLORE DATA"
   ]
  },
  {
   "cell_type": "markdown",
   "id": "d272cf21",
   "metadata": {},
   "source": [
    "Use the info() method on the DataFrame train to provide a concise summary of the dataset.\n",
    "you can use this code \"train.info()\""
   ]
  },
  {
   "cell_type": "code",
   "execution_count": null,
   "id": "74169f14",
   "metadata": {},
   "outputs": [],
   "source": [
    "# write your code here\n",
    "-------------------------------"
   ]
  },
  {
   "cell_type": "markdown",
   "id": "e61001d1",
   "metadata": {},
   "source": [
    "Apply the describe() method to the train DataFrame."
   ]
  },
  {
   "cell_type": "code",
   "execution_count": null,
   "id": "89ed1b9d",
   "metadata": {},
   "outputs": [],
   "source": [
    "# write your code here\n",
    "-------------------------------"
   ]
  },
  {
   "cell_type": "markdown",
   "id": "398316a3",
   "metadata": {},
   "source": [
    "Retrieve and print the shape of the train DataFrame using the shape attribute."
   ]
  },
  {
   "cell_type": "code",
   "execution_count": null,
   "id": "f781ef4f",
   "metadata": {},
   "outputs": [],
   "source": [
    "# write your code here\n",
    "-------------------------------"
   ]
  },
  {
   "cell_type": "markdown",
   "id": "1d982f6b",
   "metadata": {},
   "source": [
    "Utilize the head() method on the train DataFrame to display the first few rows of the dataset."
   ]
  },
  {
   "cell_type": "code",
   "execution_count": null,
   "id": "47d971c0",
   "metadata": {},
   "outputs": [],
   "source": [
    "# write your code here\n",
    "-------------------------------"
   ]
  },
  {
   "cell_type": "markdown",
   "id": "0479f419",
   "metadata": {},
   "source": [
    "How you can display the the last few rows ?"
   ]
  },
  {
   "cell_type": "code",
   "execution_count": null,
   "id": "24cbccdb",
   "metadata": {},
   "outputs": [],
   "source": [
    "# write your code here\n",
    "-------------------------------"
   ]
  },
  {
   "cell_type": "markdown",
   "id": "261544ee",
   "metadata": {},
   "source": [
    "### ===> MISSING VALUES"
   ]
  },
  {
   "cell_type": "markdown",
   "id": "835922aa",
   "metadata": {},
   "source": [
    "Using the isnull() method on the train DataFrame, create a new DataFrame named missing_values. "
   ]
  },
  {
   "cell_type": "code",
   "execution_count": null,
   "id": "1e1b207e",
   "metadata": {},
   "outputs": [],
   "source": [
    "# write your code here\n",
    "-------------------------------"
   ]
  },
  {
   "cell_type": "markdown",
   "id": "1397c4c7",
   "metadata": {},
   "source": [
    "With this code, you can visualize the distribution of null values in the titanic_data DataFrame using Seaborn's heatmap:\n"
   ]
  },
  {
   "cell_type": "markdown",
   "id": "71d9346d",
   "metadata": {},
   "source": [
    "Before using the Seaborn library, you would need to install it. You can use the following command to install Seaborn using pip:\n",
    "    \n",
    "    pip install seaborn"
   ]
  },
  {
   "cell_type": "code",
   "execution_count": null,
   "id": "92a09875",
   "metadata": {},
   "outputs": [],
   "source": [
    "import seaborn as sns\n",
    "sns.heatmap(train.isnull())"
   ]
  },
  {
   "cell_type": "markdown",
   "id": "7cdc142c",
   "metadata": {},
   "source": [
    "."
   ]
  },
  {
   "cell_type": "markdown",
   "id": "5c23b8fc",
   "metadata": {},
   "source": [
    "Define a function named clean that takes a DataFrame df as an argument. Inside this function, perform the following cleaning operations:\n",
    "\n",
    "    * Drop columns 'Cabin', 'Name', 'Ticket', 'Embarked', and 'Fare' from the DataFrame.\n",
    "    * Fill missing values in the 'Age' column with the median value. \".median()\"\n",
    "    * Use the dropna() method to remove any remaining rows with missing values.\n",
    "    * Finally, return the cleaned DataFrame.\n"
   ]
  },
  {
   "cell_type": "code",
   "execution_count": null,
   "id": "5275c19c",
   "metadata": {},
   "outputs": [],
   "source": [
    "# write your code here\n",
    "\n",
    "def clean(df):\n",
    "    df.drop([....................],axis=1,inplace=True)\n",
    "    df.Age=............................\n",
    "    df..................\n",
    "    return df"
   ]
  },
  {
   "cell_type": "markdown",
   "id": "39759a64",
   "metadata": {},
   "source": [
    "Apply the clean() function to preprocess and clean the 'train' and 'test' datasets."
   ]
  },
  {
   "cell_type": "code",
   "execution_count": null,
   "id": "dfe9a551",
   "metadata": {},
   "outputs": [],
   "source": [
    "# write your code here\n",
    "-------------------------------"
   ]
  },
  {
   "cell_type": "code",
   "execution_count": null,
   "id": "1c6da737",
   "metadata": {},
   "outputs": [],
   "source": [
    "# write your code here\n",
    "-------------------------------"
   ]
  },
  {
   "cell_type": "markdown",
   "id": "d1df607b",
   "metadata": {},
   "source": [
    "Visualize the distribution of null values"
   ]
  },
  {
   "cell_type": "code",
   "execution_count": null,
   "id": "e4a8f568",
   "metadata": {},
   "outputs": [],
   "source": [
    "sns.heatmap(test.isnull())"
   ]
  },
  {
   "cell_type": "markdown",
   "id": "687270a3",
   "metadata": {},
   "source": [
    "### ===> DUPLICATE DATA"
   ]
  },
  {
   "cell_type": "markdown",
   "id": "a5225983",
   "metadata": {},
   "source": [
    "Use the duplicated() function to identify duplicate rows based on all columns and then display those duplicated rows in the \"test\" data frame."
   ]
  },
  {
   "cell_type": "code",
   "execution_count": null,
   "id": "7d150c14",
   "metadata": {},
   "outputs": [],
   "source": [
    "# Write your code here\n",
    "\n",
    "duplicate_rows = ......................\n",
    "\n",
    "print(duplicate_rows)"
   ]
  },
  {
   "cell_type": "markdown",
   "id": "18727108",
   "metadata": {},
   "source": [
    "Use the drop_duplicates() function to remove or drop those duplicate rows from the DataFrame."
   ]
  },
  {
   "cell_type": "code",
   "execution_count": 89,
   "id": "a709e8d6",
   "metadata": {},
   "outputs": [],
   "source": [
    "# Write you code here\n",
    "\n",
    "testo_no_duplicates = ...................."
   ]
  },
  {
   "cell_type": "code",
   "execution_count": null,
   "id": "740d347e",
   "metadata": {},
   "outputs": [],
   "source": [
    "# Display the DataFrame without duplicates\n",
    "\n",
    "print(\"DataFrame without Duplicates:\")\n",
    "print(testo_no_duplicates)"
   ]
  },
  {
   "cell_type": "markdown",
   "id": "f754f2a0",
   "metadata": {},
   "source": [
    "After cleaning Our data, now we re going to build our predectif model"
   ]
  },
  {
   "cell_type": "markdown",
   "id": "220ee0d6",
   "metadata": {},
   "source": [
    "### ===> CHANGING DATA"
   ]
  },
  {
   "cell_type": "markdown",
   "id": "ae48ea75",
   "metadata": {},
   "source": [
    "This function is used to convert categorical variable(s) into dummy/indicator variables. In this case, it is applied to the \"Sex\" column in the training dataset (train). The drop_first=True parameter is used to drop the first level of each categorical variable to avoid multicollinearity issues in certain models. This means that if \"Sex\" has two categories (e.g., male and female), only one dummy variable will be created, and if it is 1, it represents \"female,\" and if it is 0, it represents \"male.\""
   ]
  },
  {
   "cell_type": "code",
   "execution_count": null,
   "id": "b4ec754e",
   "metadata": {},
   "outputs": [],
   "source": [
    "train.Sex=pd.get_dummies(train.Sex,drop_first=True)\n",
    "test.Sex=pd.get_dummies(test.Sex,drop_first=True)"
   ]
  },
  {
   "cell_type": "markdown",
   "id": "42341eaa",
   "metadata": {},
   "source": [
    "### ===> Creat model"
   ]
  },
  {
   "cell_type": "markdown",
   "id": "1b43a30f",
   "metadata": {},
   "source": [
    "Import essential libraries"
   ]
  },
  {
   "cell_type": "code",
   "execution_count": null,
   "id": "f550bff0",
   "metadata": {},
   "outputs": [],
   "source": [
    "from sklearn.model_selection import train_test_split\n",
    "from sklearn.linear_model import LogisticRegression\n",
    "from sklearn.metrics import accuracy_score"
   ]
  },
  {
   "cell_type": "markdown",
   "id": "898f631a",
   "metadata": {},
   "source": [
    "These lines are part of the initial steps in preparing the dataset for a machine learning model. x contains the features, and y contains the target variable you want to predict. "
   ]
  },
  {
   "cell_type": "code",
   "execution_count": null,
   "id": "82989e7f",
   "metadata": {},
   "outputs": [],
   "source": [
    "x=train.drop(['Survived'],axis=1)\n",
    "y=train.Survived"
   ]
  },
  {
   "cell_type": "markdown",
   "id": "b58c4fba",
   "metadata": {},
   "source": [
    "This code is using the train_test_split function from a machine learning library, likely scikit-learn, to split the dataset into training and testing sets."
   ]
  },
  {
   "cell_type": "code",
   "execution_count": null,
   "id": "117716ad",
   "metadata": {},
   "outputs": [],
   "source": [
    "x_train,x_test,y_train,y_test = train_test_split(x,y,test_size=.8)"
   ]
  },
  {
   "cell_type": "markdown",
   "id": "832521a1",
   "metadata": {},
   "source": [
    "Create a logistic regression model"
   ]
  },
  {
   "cell_type": "code",
   "execution_count": null,
   "id": "9ceb2cd8",
   "metadata": {},
   "outputs": [],
   "source": [
    "model = LogisticRegression()"
   ]
  },
  {
   "cell_type": "markdown",
   "id": "bdf72184",
   "metadata": {},
   "source": [
    "Train the model on the training data"
   ]
  },
  {
   "cell_type": "code",
   "execution_count": null,
   "id": "f658c4cc",
   "metadata": {},
   "outputs": [],
   "source": [
    "model.fit(x_train, y_train)"
   ]
  },
  {
   "cell_type": "markdown",
   "id": "278342b0",
   "metadata": {},
   "source": [
    "Predict the target variable for the test set"
   ]
  },
  {
   "cell_type": "code",
   "execution_count": null,
   "id": "726b049a",
   "metadata": {},
   "outputs": [],
   "source": [
    "predictions = model.predict(x_test)"
   ]
  },
  {
   "cell_type": "markdown",
   "id": "73e5aa32",
   "metadata": {},
   "source": [
    "Evaluate the accuracy of the model"
   ]
  },
  {
   "cell_type": "code",
   "execution_count": null,
   "id": "be2c0cb6",
   "metadata": {},
   "outputs": [],
   "source": [
    "accuracy = accuracy_score(predictions, y_test)"
   ]
  },
  {
   "cell_type": "markdown",
   "id": "a2593486",
   "metadata": {},
   "source": [
    "Print the accuracy"
   ]
  },
  {
   "cell_type": "code",
   "execution_count": null,
   "id": "1a900eab",
   "metadata": {},
   "outputs": [],
   "source": [
    "print('Accuracy is:', accuracy)"
   ]
  },
  {
   "cell_type": "markdown",
   "id": "8cacaa12",
   "metadata": {},
   "source": [
    "### Prediction"
   ]
  },
  {
   "cell_type": "markdown",
   "id": "fe61be6d",
   "metadata": {},
   "source": [
    "This line of code is used to make predictions on a dataset (test) using a trained machine learning model (model). Here's a breakdown of what this line does:"
   ]
  },
  {
   "cell_type": "code",
   "execution_count": null,
   "id": "dfa6dbf3",
   "metadata": {},
   "outputs": [],
   "source": [
    "predict=model.predict(test)"
   ]
  },
  {
   "cell_type": "markdown",
   "id": "ab41ecd4",
   "metadata": {},
   "source": [
    "This line of code is used to be extracting the \"PassengerId\" column from the test dataset and assigning it to a variable named final."
   ]
  },
  {
   "cell_type": "code",
   "execution_count": null,
   "id": "50e9e59a",
   "metadata": {},
   "outputs": [],
   "source": [
    "final=test.PassengerId"
   ]
  },
  {
   "cell_type": "markdown",
   "id": "a9bf8194",
   "metadata": {},
   "source": [
    "This line of code is creating a new pandas DataFrame (df) using the \"PassengerId\" values from the final variable "
   ]
  },
  {
   "cell_type": "code",
   "execution_count": 76,
   "id": "fef94685",
   "metadata": {},
   "outputs": [],
   "source": [
    "df=pd.DataFrame({'PassengerId':final,'Survived':predict})"
   ]
  },
  {
   "cell_type": "markdown",
   "id": "bb5939b9",
   "metadata": {},
   "source": [
    "Print the dataframe"
   ]
  },
  {
   "cell_type": "code",
   "execution_count": null,
   "id": "cf470aee",
   "metadata": {},
   "outputs": [],
   "source": [
    "df"
   ]
  },
  {
   "cell_type": "markdown",
   "id": "7e5e2ac3",
   "metadata": {},
   "source": [
    "###                                                 Congratulations! Now you are able to clean your dataset using what you have learned before, and you have gained some knowledge about the process of prediction."
   ]
  },
  {
   "cell_type": "markdown",
   "id": "a41dd047",
   "metadata": {},
   "source": [
    "### GOOD LUCK ;)"
   ]
  }
 ],
 "metadata": {
  "kernelspec": {
   "display_name": "Python 3 (ipykernel)",
   "language": "python",
   "name": "python3"
  },
  "language_info": {
   "codemirror_mode": {
    "name": "ipython",
    "version": 3
   },
   "file_extension": ".py",
   "mimetype": "text/x-python",
   "name": "python",
   "nbconvert_exporter": "python",
   "pygments_lexer": "ipython3",
   "version": "3.11.3"
  }
 },
 "nbformat": 4,
 "nbformat_minor": 5
}
